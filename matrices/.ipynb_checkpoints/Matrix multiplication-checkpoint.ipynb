{
 "cells": [
  {
   "cell_type": "code",
   "execution_count": 62,
   "id": "1e883f3d",
   "metadata": {},
   "outputs": [],
   "source": [
    "from numpy import array, zeros, allclose, arange, log2, pad, ceil, set_printoptions, append, c_, r_\n",
    "from numpy.random import random, randint\n",
    "from time import time\n",
    "from matplotlib.pyplot import title, plot, legend, show, xlabel, ylabel, figure, loglog\n",
    "from jupyterthemes import jtplot\n",
    "jtplot.style(theme = 'monokai')"
   ]
  },
  {
   "cell_type": "code",
   "execution_count": 63,
   "id": "8a0809bd",
   "metadata": {},
   "outputs": [],
   "source": [
    "def naive(A, B):\n",
    "    m = A.shape[1]\n",
    "    l = B.shape[1]\n",
    "    n = A.shape[0] \n",
    "\n",
    "    assert B.shape[0] == m, 'The matrices `A` and `B` are incompatible.'\n",
    "\n",
    "    C = zeros((n, l))\n",
    "    \n",
    "    for j in range(l):\n",
    "        for i in range(n):\n",
    "            for k in range(m):\n",
    "                C[i][j] += A[i][k] * B[k][j]\n",
    "\n",
    "    return C"
   ]
  },
  {
   "cell_type": "code",
   "execution_count": 64,
   "id": "528a06ec",
   "metadata": {},
   "outputs": [],
   "source": [
    "def recursion(A, B):\n",
    "    n = A.shape[0]\n",
    "    \n",
    "    assert B.shape[0] == A.shape[1] == A.shape[1] == n, 'The matrices `A` and `B` are not square.'\n",
    "    \n",
    "    if n < 16:\n",
    "        return naive(A, B)\n",
    "    if n % 2 != 0:\n",
    "        A = r_[c_[A, zeros((n, 1))], zeros((1, n + 1))]  \n",
    "        B = r_[c_[B, zeros((n, 1))], zeros((1, n + 1))]  \n",
    "        return recursion(A, B)[0:n, 0:n]\n",
    "\n",
    "    C = zeros((n, n))\n",
    "    m = n // 2\n",
    "    \n",
    "    for i in m * arange(2):\n",
    "        for j in m * arange(2):\n",
    "            C[i:i + m, j:j + m] = recursion(A[i:i + m, 0:m], B[0:m, j:j + m]) + \\\n",
    "                                  recursion(A[i:i + m, m:n], B[m:n, j:j + m]) \n",
    "\n",
    "    return C"
   ]
  },
  {
   "cell_type": "code",
   "execution_count": 65,
   "id": "e1af361d",
   "metadata": {},
   "outputs": [],
   "source": [
    "def divide(A):\n",
    "    n = A.shape[0] \n",
    "    m = n // 2\n",
    "    return A[0:m, 0:m], A[0:m, m:n], A[m:n, 0:m], A[m:n, m:n]"
   ]
  },
  {
   "cell_type": "code",
   "execution_count": 66,
   "id": "c7f07d4f",
   "metadata": {},
   "outputs": [],
   "source": [
    "def strassen(A, B):\n",
    "    n = A.shape[0]\n",
    "    \n",
    "    assert A.shape[1] == n, 'The matrix `A` is not not square.'\n",
    "    assert B.shape[0] == B.shape[1], 'The matrix `B` is not not square.'\n",
    "    assert B.shape[0] == n, 'The matrices `A` and `B` are not compatible.'\n",
    "    \n",
    "    if n < 16:\n",
    "        return naive(A, B)\n",
    "    if n % 2 != 0:\n",
    "        A = r_[c_[A, zeros((n, 1))], zeros((1, n + 1))]  \n",
    "        B = r_[c_[B, zeros((n, 1))], zeros((1, n + 1))]  \n",
    "        C = strassen(A, B)\n",
    "        return C[0:n, 0:n]\n",
    "\n",
    "    m = n // 2\n",
    "    C = zeros((n, n))\n",
    "\n",
    "    A11, A12, A21, A22 = divide(A)\n",
    "    B11, B12, B21, B22 = divide(B)\n",
    "\n",
    "    P1 = strassen(A11, B12 - B22)\n",
    "    P2 = strassen(A11 + A12, B22)\n",
    "    P3 = strassen(A21 + A22, B11)\n",
    "    P4 = strassen(A22, B21 - B11)\n",
    "    P5 = strassen(A11 + A22, B11 + B22)\n",
    "    P6 = strassen(A12 - A22, B21 + B22)\n",
    "    P7 = strassen(A11 - A21, B11 + B12)\n",
    "    \n",
    "    C[0:m, 0:m] = P5 + P4 - P2 + P6\n",
    "    C[0:m, m:n] = P1 + P2\n",
    "    C[m:n, 0:m] = P3 + P4\n",
    "    C[m:n, m:n] = P5 + P1 - P3 - P7\n",
    "\n",
    "    return C"
   ]
  },
  {
   "cell_type": "code",
   "execution_count": 67,
   "id": "3b64c965",
   "metadata": {},
   "outputs": [],
   "source": [
    "def complexity(function, nmax = 8, dims = array([0, 0, 0])):\n",
    "    t = [] \n",
    "    s = []\n",
    "\n",
    "    for n in 2 ** arange(nmax):\n",
    "        k, m, p = n * dims\n",
    "        \n",
    "        A = random((k + n, m + n))\n",
    "        B = random((m + n, p + n))\n",
    "    \n",
    "        start = time()\n",
    "        function(A, B)\n",
    "        end = time()\n",
    "    \n",
    "        s += [n]\n",
    "        t += [end - start]\n",
    "    \n",
    "    return array(s), array(t)"
   ]
  },
  {
   "cell_type": "code",
   "execution_count": 68,
   "id": "ac01d7e4",
   "metadata": {},
   "outputs": [
    {
     "name": "stdout",
     "output_type": "stream",
     "text": [
      "Is the naïve algorithm implemented correct? True\n",
      "Is the recursive algorithm implemented correct? True\n",
      "Is the strassen`s algorithm implemented correct? True\n"
     ]
    }
   ],
   "source": [
    "n = 1 + randint(100, size = 1)[0] # Generating random sizes for the matrices\n",
    "A = random((n, n))\n",
    "B = random((n, n))\n",
    "print('Is the na\\u00efve algorithm implemented correct?', allclose(naive(A, B), A @ B))\n",
    "print('Is the recursive algorithm implemented correct?', allclose(recursion(A, B), A @ B))\n",
    "print('Is the strassen`s algorithm implemented correct?', allclose(strassen(A, B), A @ B))"
   ]
  },
  {
   "cell_type": "code",
   "execution_count": 69,
   "id": "7b3a7eb4",
   "metadata": {
    "scrolled": true
   },
   "outputs": [
    {
     "name": "stdout",
     "output_type": "stream",
     "text": [
      "Time required by the naïve algorithm:\n",
      "634 ms ± 31.4 ms per loop (mean ± std. dev. of 7 runs, 1 loop each)\n",
      "\n",
      "Time required by the recursive algorithm:\n",
      "807 ms ± 21.2 ms per loop (mean ± std. dev. of 7 runs, 1 loop each)\n",
      "\n",
      "Time required by the strassen`s algorithm:\n",
      "538 ms ± 28.7 ms per loop (mean ± std. dev. of 7 runs, 1 loop each)\n"
     ]
    }
   ],
   "source": [
    "print('Time required by the na\\u00efve algorithm:')\n",
    "%timeit naive(A, B)\n",
    "\n",
    "print('\\nTime required by the recursive algorithm:')\n",
    "%timeit recursion(A, B)\n",
    "\n",
    "print('\\nTime required by the strassen`s algorithm:')\n",
    "%timeit strassen(A, B)"
   ]
  },
  {
   "cell_type": "code",
   "execution_count": 70,
   "id": "fb912e19",
   "metadata": {},
   "outputs": [],
   "source": [
    "size = 8\n",
    "s, t_naive = complexity(naive, nmax = size)\n",
    "_, t_recursive = complexity(recursion, nmax = size)\n",
    "_, t_strassen = complexity(strassen, nmax = size)"
   ]
  },
  {
   "cell_type": "code",
   "execution_count": 71,
   "id": "b34680ba",
   "metadata": {},
   "outputs": [
    {
     "data": {
      "image/png": "[encoded data removed]",
      "text/plain": [
       "<Figure size 720x720 with 1 Axes>"
      ]
     },
     "metadata": {},
     "output_type": "display_data"
    }
   ],
   "source": [
    "figure(figsize = [10, 10])\n",
    "x = array(arange(1, 2 ** (size - 1), 0.1)) \n",
    "loglog(x, x ** 3 * 1e-6, 'y--', label = '$n^3$')\n",
    "loglog(x, x ** log2(7) * 1e-6, 'w--', label = '$n^{\\log_27}$')\n",
    "loglog(s, t_naive, 'b:v',  label = 'Naive')\n",
    "loglog(s, t_recursive, 'g:^', label = 'Recursive') \n",
    "loglog(s, t_strassen, 'r:p', label = 'Strassen') \n",
    "xlabel('$n$')\n",
    "ylabel('$t$')\n",
    "legend()\n",
    "show()"
   ]
  },
  {
   "cell_type": "code",
   "execution_count": 72,
   "id": "202f9440",
   "metadata": {},
   "outputs": [],
   "source": [
    "def generalized_divide(A, l):\n",
    "    n = A.shape[0]\n",
    "    m = A.shape[1]\n",
    "    return A[0:l, 0:l], A[0:l, l:m], A[l:n, 0:l], A[l:n, l:m]"
   ]
  },
  {
   "cell_type": "code",
   "execution_count": 80,
   "id": "d5cf2ed3",
   "metadata": {},
   "outputs": [],
   "source": [
    "def generalized_strassen(A, B):\n",
    "    n = A.shape[0]\n",
    "    m = A.shape[1]\n",
    "    p = B.shape[1]\n",
    "    \n",
    "    assert B.shape[0] == m, 'The matrices `A` and `B` are not compatible.'\n",
    "    \n",
    "    if n == m == p:\n",
    "        return strassen(A, B)\n",
    "    \n",
    "    l = min(n, m, p) \n",
    "    \n",
    "    if l < 16:\n",
    "        return naive(A, B)\n",
    "    \n",
    "    A11, A12, A21, A22 = generalized_divide(A, l)\n",
    "    B11, B12, B21, B22 = generalized_divide(B, l)\n",
    "\n",
    "    C = zeros((n, p))\n",
    "    C[0:l, 0:l] += generalized_strassen(A11, B11) \n",
    "    \n",
    "    if m > l:\n",
    "        C[0:l, 0:l] += generalized_strassen(A12, B21)\n",
    "        C[0:l, l:p] += generalized_strassen(A12, B22)\n",
    "        C[l:n, 0:l] += generalized_strassen(A22, B21)\n",
    "    \n",
    "    if n > l:\n",
    "        C[l:n, 0:l] += generalized_strassen(A21, B11)\n",
    "        \n",
    "    if p > l:\n",
    "        C[0:l, l:p] += generalized_strassen(A11, B12)\n",
    "        \n",
    "    if n > l and p > l:\n",
    "        C[l:n, l:p] += generalized_strassen(A21, B12)\n",
    "\n",
    "    return C"
   ]
  },
  {
   "cell_type": "code",
   "execution_count": 81,
   "id": "c989d94c",
   "metadata": {},
   "outputs": [
    {
     "name": "stdout",
     "output_type": "stream",
     "text": [
      "Is the naïve algorithm implemented correct? True\n",
      "Is the generalized Strassen`s algorithm implemented correct? True\n"
     ]
    }
   ],
   "source": [
    "n, m, p = 1 + randint(10, size = 3) # Generating random sizes for the matrices\n",
    "A = random((n, m))\n",
    "B = random((m, p))\n",
    "print('Is the na\\u00efve algorithm implemented correct?', allclose(naive(A, B), A @ B))\n",
    "print('Is the generalized Strassen`s algorithm implemented correct?', allclose(generalized_strassen(A, B), A @ B))"
   ]
  },
  {
   "cell_type": "code",
   "execution_count": 82,
   "id": "c7eae35d",
   "metadata": {},
   "outputs": [
    {
     "name": "stdout",
     "output_type": "stream",
     "text": [
      "Time required by the naïve algorithm:\n",
      "55.1 µs ± 1.56 µs per loop (mean ± std. dev. of 7 runs, 10,000 loops each)\n",
      "\n",
      "Time required by the recursive algorithm:\n",
      "58.3 µs ± 2.26 µs per loop (mean ± std. dev. of 7 runs, 10,000 loops each)\n"
     ]
    }
   ],
   "source": [
    "print('Time required by the na\\u00efve algorithm:')\n",
    "%timeit naive(A, B)\n",
    "\n",
    "print('\\nTime required by the recursive algorithm:')\n",
    "%timeit generalized_strassen(A, B)"
   ]
  },
  {
   "cell_type": "code",
   "execution_count": null,
   "id": "65c5d804",
   "metadata": {},
   "outputs": [],
   "source": [
    "size = 8\n",
    "dims = randint(5, size = 3)\n",
    "s, t_naive = complexity(naive, dims = dims, nmax = size)\n",
    "_, t_general = complexity(generalized_strassen, dims = dims, nmax = size)"
   ]
  },
  {
   "cell_type": "code",
   "execution_count": null,
   "id": "99bc7512",
   "metadata": {},
   "outputs": [],
   "source": [
    "figure(figsize = [10, 10])\n",
    "x = array(arange(16, 2 ** (size - 1), 0.1)) \n",
    "loglog(x, x ** 3 * t_naive[-1] / x[-1] ** 3, 'y--', label = '$n^3$') \n",
    "loglog(x, x ** log2(7) * t_general[-1] / x[-1] ** log2(7), 'w--', label = '$n^{\\log_27}$')\n",
    "loglog(s, t_naive, 'b:v',  label = 'Naive')\n",
    "loglog(s, t_general, 'g:^', label = 'Generalized Strassen') \n",
    "xlabel('$n$')\n",
    "ylabel('$t$')\n",
    "legend()\n",
    "show()"
   ]
  },
  {
   "cell_type": "code",
   "execution_count": null,
   "id": "a2077dc5",
   "metadata": {},
   "outputs": [],
   "source": []
  }
 ],
 "metadata": {
  "kernelspec": {
   "display_name": "Python 3 (ipykernel)",
   "language": "python",
   "name": "python3"
  },
  "language_info": {
   "codemirror_mode": {
    "name": "ipython",
    "version": 3
   },
   "file_extension": ".py",
   "mimetype": "text/x-python",
   "name": "python",
   "nbconvert_exporter": "python",
   "pygments_lexer": "ipython3",
   "version": "3.9.13"
  }
 },
 "nbformat": 4,
 "nbformat_minor": 5
}
